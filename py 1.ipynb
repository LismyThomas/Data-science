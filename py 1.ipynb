{
 "cells": [
  {
   "cell_type": "code",
   "execution_count": 5,
   "id": "cd7a0ee0",
   "metadata": {},
   "outputs": [
    {
     "name": "stdout",
     "output_type": "stream",
     "text": [
      "<class 'int'>\n"
     ]
    }
   ],
   "source": [
    "a=5\n",
    "print (type(a))"
   ]
  },
  {
   "cell_type": "code",
   "execution_count": 16,
   "id": "aaed04c8",
   "metadata": {},
   "outputs": [
    {
     "name": "stdout",
     "output_type": "stream",
     "text": [
      "1.5\n",
      "<class 'float'>\n"
     ]
    }
   ],
   "source": [
    "f=1.5\n",
    "print(f)\n",
    "print(type(f))"
   ]
  },
  {
   "cell_type": "code",
   "execution_count": 17,
   "id": "f01bb327",
   "metadata": {},
   "outputs": [
    {
     "name": "stdout",
     "output_type": "stream",
     "text": [
      "hello\n",
      "<class 'str'>\n"
     ]
    }
   ],
   "source": [
    "s=\"hello\"\n",
    "print(s)\n",
    "print(type(s))"
   ]
  },
  {
   "cell_type": "code",
   "execution_count": 18,
   "id": "85618810",
   "metadata": {},
   "outputs": [
    {
     "name": "stdout",
     "output_type": "stream",
     "text": [
      "True\n",
      "<class 'bool'>\n"
     ]
    }
   ],
   "source": [
    "b=True\n",
    "print(b)\n",
    "print(type(b))"
   ]
  },
  {
   "cell_type": "code",
   "execution_count": 19,
   "id": "59a44287",
   "metadata": {},
   "outputs": [
    {
     "name": "stdout",
     "output_type": "stream",
     "text": [
      "(5+3j)\n",
      "<class 'complex'>\n"
     ]
    }
   ],
   "source": [
    "t=5+3j\n",
    "print(t)\n",
    "print(type(t))"
   ]
  },
  {
   "cell_type": "code",
   "execution_count": 20,
   "id": "d3fe376e",
   "metadata": {},
   "outputs": [
    {
     "name": "stdout",
     "output_type": "stream",
     "text": [
      "10\n"
     ]
    }
   ],
   "source": [
    "a=7\n",
    "b=3\n",
    "ab_sum=a+b\n",
    "print(ab_sum)"
   ]
  },
  {
   "cell_type": "code",
   "execution_count": 21,
   "id": "dcee3178",
   "metadata": {},
   "outputs": [
    {
     "name": "stdout",
     "output_type": "stream",
     "text": [
      "4\n"
     ]
    }
   ],
   "source": [
    "ab_dif=a-b\n",
    "print(ab_dif)\n"
   ]
  },
  {
   "cell_type": "code",
   "execution_count": 22,
   "id": "43790d2a",
   "metadata": {},
   "outputs": [
    {
     "name": "stdout",
     "output_type": "stream",
     "text": [
      "21\n"
     ]
    }
   ],
   "source": [
    "ab_pro=a*b\n",
    "print(ab_pro)"
   ]
  },
  {
   "cell_type": "code",
   "execution_count": 23,
   "id": "2c19e242",
   "metadata": {},
   "outputs": [
    {
     "name": "stdout",
     "output_type": "stream",
     "text": [
      "2.3333333333333335\n"
     ]
    }
   ],
   "source": [
    "ab_quo=a/b\n",
    "print(ab_quo)"
   ]
  },
  {
   "cell_type": "code",
   "execution_count": 24,
   "id": "4ae9e4d8",
   "metadata": {},
   "outputs": [
    {
     "name": "stdout",
     "output_type": "stream",
     "text": [
      "1\n"
     ]
    }
   ],
   "source": [
    "ab_rem=a%b\n",
    "print(ab_rem)"
   ]
  },
  {
   "cell_type": "code",
   "execution_count": 25,
   "id": "b2e38bd7",
   "metadata": {},
   "outputs": [
    {
     "name": "stdout",
     "output_type": "stream",
     "text": [
      "343\n"
     ]
    }
   ],
   "source": [
    "ab_pow=a**b\n",
    "print(ab_pow)"
   ]
  },
  {
   "cell_type": "code",
   "execution_count": 26,
   "id": "44c71953",
   "metadata": {},
   "outputs": [
    {
     "name": "stdout",
     "output_type": "stream",
     "text": [
      "2\n"
     ]
    }
   ],
   "source": [
    "ab_iquo=a//b\n",
    "print(ab_iquo)"
   ]
  },
  {
   "cell_type": "code",
   "execution_count": 37,
   "id": "85d10968",
   "metadata": {},
   "outputs": [
    {
     "name": "stdout",
     "output_type": "stream",
     "text": [
      "True False\n",
      "True\n",
      "False\n",
      "False\n",
      "True\n",
      "True\n"
     ]
    }
   ],
   "source": [
    "T=True\n",
    "F=False\n",
    "print(T,F)\n",
    "\n",
    "p = 5 > 3\n",
    "print(p)\n",
    "\n",
    "q = -1 < -12.5\n",
    "print(q)\n",
    "\n",
    "print(p and q)\n",
    "print(p or q)\n",
    "print(not q)"
   ]
  },
  {
   "cell_type": "code",
   "execution_count": 39,
   "id": "f6593291",
   "metadata": {},
   "outputs": [
    {
     "name": "stdout",
     "output_type": "stream",
     "text": [
      "HELLO\n",
      "hi\n",
      "python world\n",
      "python world 1011\n",
      "17\n"
     ]
    }
   ],
   "source": [
    "s=\"HELLO\"\n",
    "u=\"hi\"\n",
    "print(s)\n",
    "print(u)\n",
    "\n",
    "s1=\"python\"\n",
    "s2=\"world\"\n",
    "s3=s1+' '+s2\n",
    "print(s3)\n",
    "\n",
    "s3='%s %s %d'%(s1,s2,1011)\n",
    "print(s3)\n",
    "\n",
    "print(len(s3))\n",
    "\n"
   ]
  },
  {
   "cell_type": "code",
   "execution_count": 50,
   "id": "07517bfc",
   "metadata": {},
   "outputs": [
    {
     "name": "stdout",
     "output_type": "stream",
     "text": [
      "PYTHON WORLD 1011\n",
      "Python world 1011\n",
      "python world 1011\n",
      "['hello', 'world', 'where', 'are', 'you']\n",
      "beek\n",
      "2\n",
      "-1\n"
     ]
    }
   ],
   "source": [
    "print(s3.upper())\n",
    "\n",
    "print(s3.capitalize())\n",
    "\n",
    "print(s3.lower())\n",
    "\n",
    "print(\"hello world where are you\".split())\n",
    "\n",
    "print('book'.replace('o','e'))\n",
    "\n",
    "word='jewellery'\n",
    "print(word.find('well'))\n",
    "print(word.find('is'))"
   ]
  },
  {
   "cell_type": "code",
   "execution_count": 60,
   "id": "96eb7eb0",
   "metadata": {},
   "outputs": [
    {
     "name": "stdout",
     "output_type": "stream",
     "text": [
      "not 3 digit\n"
     ]
    }
   ],
   "source": [
    "number=23\n",
    "if number>99 and number<1000:\n",
    "    print(\"3 digit\")\n",
    "else:\n",
    "    print(\"not 3 digit\")"
   ]
  },
  {
   "cell_type": "code",
   "execution_count": 61,
   "id": "72858a9f",
   "metadata": {},
   "outputs": [
    {
     "name": "stdout",
     "output_type": "stream",
     "text": [
      "Are you familiar with python:no\n",
      "You are at the right place :-)\n"
     ]
    }
   ],
   "source": [
    "response=input('Are you familiar with python:')\n",
    "\n",
    "if response.upper() == \"YES\":\n",
    "    print(\"You can skip this course :-|\") \n",
    "elif response.upper() == \"NO\":\n",
    "    print(\"You are at the right place :-)\") \n",
    "else:\n",
    "    print('Sorry wrong input :-(')"
   ]
  },
  {
   "cell_type": "code",
   "execution_count": 65,
   "id": "787cb8ec",
   "metadata": {},
   "outputs": [
    {
     "name": "stdout",
     "output_type": "stream",
     "text": [
      "0 1 2 3 4 5 6 7 8 9 "
     ]
    }
   ],
   "source": [
    "for x in range(10):\n",
    "    print(x,end=' ')"
   ]
  },
  {
   "cell_type": "code",
   "execution_count": 68,
   "id": "70f475f7",
   "metadata": {},
   "outputs": [
    {
     "name": "stdout",
     "output_type": "stream",
     "text": [
      "Enter a limit : 12\n",
      "Odd sum = 36\n"
     ]
    }
   ],
   "source": [
    "limit=int(input('Enter a limit : ')) \n",
    "sum=0\n",
    "for i in range(1,limit + 1): \n",
    "    if (i%2!=0):\n",
    "        sum+=i\n",
    "print(\"Odd sum= \"+str(sum))"
   ]
  },
  {
   "cell_type": "code",
   "execution_count": 71,
   "id": "9f0561a2",
   "metadata": {},
   "outputs": [
    {
     "name": "stdout",
     "output_type": "stream",
     "text": [
      "Enter number : 34\n",
      "7\n"
     ]
    }
   ],
   "source": [
    "number=int(input('Enter number : ')) \n",
    "s=0\n",
    "while(number>0):\n",
    "    s+=(number%10)\n",
    "    number=(number//10)\n",
    "print(s)"
   ]
  },
  {
   "cell_type": "code",
   "execution_count": 1,
   "id": "8e2446f0",
   "metadata": {},
   "outputs": [
    {
     "name": "stdout",
     "output_type": "stream",
     "text": [
      "[0, 1, 2, 3, 4, 5, 6, 7, 8, 9]\n",
      "[1, 2, 3, 4, 5, 6, 7, 8, 9]\n",
      "[1, 3, 5, 7, 9]\n"
     ]
    }
   ],
   "source": [
    "print(list(range(10)))\n",
    "\n",
    "print(list(range(1,10)))\n",
    "\n",
    "print(list(range(1,10,2)))"
   ]
  },
  {
   "cell_type": "code",
   "execution_count": 4,
   "id": "27d15585",
   "metadata": {},
   "outputs": [
    {
     "name": "stdout",
     "output_type": "stream",
     "text": [
      "Enter number : 12\n",
      "2 3 5 7 11 "
     ]
    }
   ],
   "source": [
    "limit=int(input('Enter number : ')) \n",
    "for num in range(2,limit+1):\n",
    "    is_divisible=False\n",
    "    k=2\n",
    "    while k<=num//2 :\n",
    "        if num%k==0:\n",
    "            is_divisible=True\n",
    "            break;\n",
    "        k += 1\n",
    "    if not is_divisible:\n",
    "        print(num,end=' ')\n",
    "\n"
   ]
  },
  {
   "cell_type": "code",
   "execution_count": 3,
   "id": "be095cdb",
   "metadata": {},
   "outputs": [
    {
     "name": "stdout",
     "output_type": "stream",
     "text": [
      "['a', 'b', 1, 1.2, True]\n"
     ]
    }
   ],
   "source": [
    "mylist = ['a','b', 1, 1.2, True]\n",
    "print(mylist)"
   ]
  },
  {
   "cell_type": "code",
   "execution_count": 5,
   "id": "5911cde6",
   "metadata": {},
   "outputs": [
    {
     "name": "stdout",
     "output_type": "stream",
     "text": [
      "['a', 'b', 1, 1.2, True, [1, 2, 3]]\n"
     ]
    }
   ],
   "source": [
    "b=[1,2,3]\n",
    "mylist.append(b)\n",
    "print(mylist)"
   ]
  },
  {
   "cell_type": "code",
   "execution_count": 6,
   "id": "65d98f78",
   "metadata": {},
   "outputs": [
    {
     "name": "stdout",
     "output_type": "stream",
     "text": [
      "['a', 'b', 1, 1.2, True, [1, 2, 3], 'new']\n"
     ]
    }
   ],
   "source": [
    "mylist.append('new')\n",
    "print(mylist)"
   ]
  },
  {
   "cell_type": "code",
   "execution_count": 7,
   "id": "f448a6ef",
   "metadata": {},
   "outputs": [
    {
     "name": "stdout",
     "output_type": "stream",
     "text": [
      "['a', 'b', 1, 1.2, True, 'new']\n"
     ]
    }
   ],
   "source": [
    "mylist.remove(b)\n",
    "print(mylist)"
   ]
  },
  {
   "cell_type": "code",
   "execution_count": 8,
   "id": "6f13de06",
   "metadata": {},
   "outputs": [
    {
     "name": "stdout",
     "output_type": "stream",
     "text": [
      "new\n"
     ]
    }
   ],
   "source": [
    "print(mylist.pop())"
   ]
  },
  {
   "cell_type": "code",
   "execution_count": 9,
   "id": "93bd1b92",
   "metadata": {},
   "outputs": [
    {
     "name": "stdout",
     "output_type": "stream",
     "text": [
      "['a', 'b', 1, 1.2, True, 1, 2, 3]\n"
     ]
    }
   ],
   "source": [
    "mylist.extend(b)\n",
    "print(mylist)"
   ]
  },
  {
   "cell_type": "code",
   "execution_count": 10,
   "id": "786bb7e1",
   "metadata": {},
   "outputs": [
    {
     "name": "stdout",
     "output_type": "stream",
     "text": [
      "['a', 'b', 'new', 1, 1.2, True, 1, 2, 3]\n"
     ]
    }
   ],
   "source": [
    "mylist.insert(2,'new')\n",
    "print(mylist)"
   ]
  },
  {
   "cell_type": "code",
   "execution_count": 11,
   "id": "7dd29bd6",
   "metadata": {},
   "outputs": [
    {
     "name": "stdout",
     "output_type": "stream",
     "text": [
      "[2, 3, 7, 8]\n"
     ]
    }
   ],
   "source": [
    "a=[2,3,8,7]\n",
    "a.sort()\n",
    "print(a)"
   ]
  },
  {
   "cell_type": "code",
   "execution_count": 12,
   "id": "07531c44",
   "metadata": {},
   "outputs": [
    {
     "name": "stdout",
     "output_type": "stream",
     "text": [
      "['a', 'b', 1, 1.2, True, 1, 2, 3]\n"
     ]
    }
   ],
   "source": [
    "mylist.remove('new')\n",
    "print(mylist)"
   ]
  },
  {
   "cell_type": "code",
   "execution_count": 13,
   "id": "aa4b9d3a",
   "metadata": {},
   "outputs": [
    {
     "name": "stdout",
     "output_type": "stream",
     "text": [
      "['h', 'e', 'l', 'l', 'o']\n"
     ]
    }
   ],
   "source": [
    "print(list('hello'))"
   ]
  },
  {
   "cell_type": "code",
   "execution_count": 14,
   "id": "f0442358",
   "metadata": {},
   "outputs": [
    {
     "name": "stdout",
     "output_type": "stream",
     "text": [
      "2 7\n",
      "[6, 7]\n",
      "[6, 7]\n",
      "[1, 2, 3, 4, 5, 6, 7]\n",
      "[6, 7]\n"
     ]
    }
   ],
   "source": [
    "numbers=[1,2,3,4,5,6,7]\n",
    "print(numbers[1],numbers[-1])\n",
    "sliced=numbers[5:11]\n",
    "print(sliced)\n",
    "sliced=numbers[5:]\n",
    "print(sliced)\n",
    "sliced=numbers[:7]\n",
    "print(sliced)\n",
    "sliced=numbers[-2:]\n",
    "print(sliced)"
   ]
  },
  {
   "cell_type": "code",
   "execution_count": 15,
   "id": "151b5a3a",
   "metadata": {},
   "outputs": [
    {
     "name": "stdout",
     "output_type": "stream",
     "text": [
      "[1, 2, 3, 4, 5, 6, 7]\n"
     ]
    }
   ],
   "source": [
    "numbers=list(range(1,8))\n",
    "print(numbers)"
   ]
  },
  {
   "cell_type": "code",
   "execution_count": 16,
   "id": "b119afb8",
   "metadata": {},
   "outputs": [
    {
     "name": "stdout",
     "output_type": "stream",
     "text": [
      "[1]\n",
      "[1, 4]\n",
      "[1, 4, 9]\n",
      "[1, 4, 9, 16]\n",
      "[1, 4, 9, 16, 25]\n",
      "[1, 4, 9, 16, 25, 36]\n",
      "[1, 4, 9, 16, 25, 36, 49]\n"
     ]
    }
   ],
   "source": [
    "square=[]\n",
    "for i in numbers:\n",
    "    square.append(pow(i,2))\n",
    "    print(square)"
   ]
  },
  {
   "cell_type": "code",
   "execution_count": 17,
   "id": "0effaaea",
   "metadata": {},
   "outputs": [
    {
     "name": "stdout",
     "output_type": "stream",
     "text": [
      "[1, 4, 9, 16, 25, 36, 49]\n",
      "[1, 9, 25, 49]\n"
     ]
    }
   ],
   "source": [
    "square=[x**2 for x in numbers]\n",
    "print(square)\n",
    "odd_square=[x**2 for x in numbers if x%2!=0]\n",
    "print(odd_square)"
   ]
  },
  {
   "cell_type": "code",
   "execution_count": 18,
   "id": "14f0c032",
   "metadata": {},
   "outputs": [
    {
     "name": "stdout",
     "output_type": "stream",
     "text": [
      "[(4, 5), (4, 8), (4, 9), (5, 4), (5, 8), (5, 9), (8, 4), (8, 5), (8, 9), (9, 4), (9, 5), (9, 8)]\n"
     ]
    }
   ],
   "source": [
    "A=[4,5,8,9]\n",
    "AxA=[(a,b)for a in A for b in A if a!=b]\n",
    "print(AxA)"
   ]
  },
  {
   "cell_type": "code",
   "execution_count": 19,
   "id": "47d248c0",
   "metadata": {},
   "outputs": [
    {
     "name": "stdout",
     "output_type": "stream",
     "text": [
      "manu\n",
      "True\n",
      "False\n",
      "{'name': 'manu', 'age': 28, 'sex': 'male'}\n",
      "name manu\n",
      "age 28\n",
      "sex male\n"
     ]
    }
   ],
   "source": [
    "person={'name':'manu','age':28}\n",
    "print(person['name'])\n",
    "\n",
    "\n",
    "print('name' in person)\n",
    "\n",
    "print('sex' in person)\n",
    "\n",
    "person['sex']='male'\n",
    "print(person)\n",
    "\n",
    "for item in person:\n",
    "    print(item,person[item])\n",
    "    "
   ]
  },
  {
   "cell_type": "code",
   "execution_count": 20,
   "id": "8ad3f0fa",
   "metadata": {},
   "outputs": [
    {
     "name": "stdout",
     "output_type": "stream",
     "text": [
      "Name \t\t manu\n",
      "Age \t\t 28\n",
      "Sex \t\t male\n"
     ]
    }
   ],
   "source": [
    "for(key,value)in person.items():\n",
    "    print(key.capitalize(),'\\t\\t',value)"
   ]
  },
  {
   "cell_type": "code",
   "execution_count": 21,
   "id": "ef4a9b66",
   "metadata": {},
   "outputs": [
    {
     "name": "stdout",
     "output_type": "stream",
     "text": [
      "(1, 2, 3) (4, 5, 6)\n",
      "(1, 2, 3, 4, 5, 6)\n",
      "('a', 'b', 'c', 'd')\n"
     ]
    },
    {
     "ename": "TypeError",
     "evalue": "'tuple' object does not support item assignment",
     "output_type": "error",
     "traceback": [
      "\u001b[0;31m---------------------------------------------------------------------------\u001b[0m",
      "\u001b[0;31mTypeError\u001b[0m                                 Traceback (most recent call last)",
      "\u001b[0;32m/tmp/ipykernel_3479/2574559299.py\u001b[0m in \u001b[0;36m<module>\u001b[0;34m\u001b[0m\n\u001b[1;32m     10\u001b[0m \u001b[0;34m\u001b[0m\u001b[0m\n\u001b[1;32m     11\u001b[0m \u001b[0;34m\u001b[0m\u001b[0m\n\u001b[0;32m---> 12\u001b[0;31m \u001b[0mlt\u001b[0m\u001b[0;34m[\u001b[0m\u001b[0;36m2\u001b[0m\u001b[0;34m]\u001b[0m\u001b[0;34m=\u001b[0m\u001b[0;34m'x'\u001b[0m\u001b[0;34m\u001b[0m\u001b[0;34m\u001b[0m\u001b[0m\n\u001b[0m",
      "\u001b[0;31mTypeError\u001b[0m: 'tuple' object does not support item assignment"
     ]
    }
   ],
   "source": [
    "t1=(1,2,3)\n",
    "t2=4,5,6\n",
    "print(t1,t2)\n",
    "\n",
    "t3=t1+t2\n",
    "print(t3)\n",
    "\n",
    "lt=tuple(['a','b','c','d'])\n",
    "print(lt)\n",
    "\n",
    "\n",
    "lt[2]='x'\n"
   ]
  },
  {
   "cell_type": "code",
   "execution_count": 22,
   "id": "348dfc44",
   "metadata": {},
   "outputs": [
    {
     "name": "stdout",
     "output_type": "stream",
     "text": [
      "<class 'int'>\n",
      "('a', 'b', 'c', 'd')\n",
      "<class 'int'>\n"
     ]
    }
   ],
   "source": [
    "s=(3)\n",
    "print(type(s))\n",
    "lt=tuple(['a','b','c','d']) \n",
    "print(lt)\n",
    "print(type(s))"
   ]
  },
  {
   "cell_type": "code",
   "execution_count": 23,
   "id": "ffb22485",
   "metadata": {},
   "outputs": [
    {
     "name": "stdout",
     "output_type": "stream",
     "text": [
      "{1, 2, 3} <class 'set'>\n",
      "{'apple', 'cherry'}\n",
      "set()\n",
      "{1, 2, 3, 'b', 'c', 'a'}\n",
      "{'apple'}\n",
      "[1, 2, 3, 4, 5, 6, 7]\n",
      "set()\n"
     ]
    }
   ],
   "source": [
    "s={1,2,3}\n",
    "print(s,type(s))\n",
    "\n",
    "fset={\"apple\", \"banana\", \"cherry\"}\n",
    "fset.remove(\"banana\")\n",
    "print(fset)\n",
    "\n",
    "fset={\"apple\", \"banana\", \"cherry\"}\n",
    "fset.discard(\"banana\")\n",
    "\n",
    "fset = {\"apple\", \"banana\", \"cherry\"}\n",
    "fset.clear()\n",
    "print(fset)\n",
    "\n",
    "set1={\"a\", \"b\" , \"c\"} \n",
    "set2={1, 2, 3}\n",
    "set3=set1.union(set2)\n",
    "print(set3)\n",
    "\n",
    "x={\"apple\", \"banana\", \"cherry\"}\n",
    "y={\"google\", \"microsoft\", \"apple\"}\n",
    "\n",
    "z=x.intersection(y)\n",
    "print(z)\n",
    "\n",
    "lst=[1,2,3,4,5,5,5,7,6]\n",
    "myset = list(set(lst))\n",
    "print(myset)\n",
    "fset={\"apple\", \"banana\", \"cherry\"}\n",
    "fset.clear()\n",
    "print(fset)"
   ]
  },
  {
   "cell_type": "code",
   "execution_count": 27,
   "id": "85842b89",
   "metadata": {},
   "outputs": [
    {
     "name": "stdout",
     "output_type": "stream",
     "text": [
      "10\n",
      "Enter the number 2\n",
      "True\n"
     ]
    }
   ],
   "source": [
    "def twice(number):\n",
    "    return 2*number\n",
    "t=twice(5)\n",
    "print(t)\n",
    "\n",
    "def isPrime(number):\n",
    "    for factor in range(2,(number//2)+1): \n",
    "        if number%factor==0:\n",
    "            return False\n",
    "    return True\n",
    "number=int(input('Enter the number '))\n",
    "print(isPrime(number))"
   ]
  },
  {
   "cell_type": "code",
   "execution_count": 29,
   "id": "e6eea8d8",
   "metadata": {},
   "outputs": [
    {
     "name": "stdout",
     "output_type": "stream",
     "text": [
      "5 7 11 13 17 19 23 29 31 37 41 43 47 7 5\n"
     ]
    }
   ],
   "source": [
    "def printPrimes(llimit, ulimit):\n",
    "    for num in range(llimit, ulimit + 1):\n",
    "        if isPrime(num) == True:\n",
    "            print(num, end = ' ')\n",
    "printPrimes(5,50)"
   ]
  },
  {
   "cell_type": "code",
   "execution_count": 2,
   "id": "90d21b16",
   "metadata": {},
   "outputs": [
    {
     "name": "stdout",
     "output_type": "stream",
     "text": [
      "7 5\n"
     ]
    }
   ],
   "source": [
    "def swap(x,y):\n",
    "    t=x\n",
    "    x=y\n",
    "    y=t\n",
    "    return x,y\n",
    "a=5\n",
    "b=7\n",
    "a,b=swap(a,b)\n",
    "print(a,b)"
   ]
  },
  {
   "cell_type": "code",
   "execution_count": 3,
   "id": "d0930763",
   "metadata": {},
   "outputs": [
    {
     "name": "stdout",
     "output_type": "stream",
     "text": [
      "9\n"
     ]
    }
   ],
   "source": [
    "class Adder:\n",
    "    def init (self):\n",
    "        self.x=0\n",
    "        self.y=0\n",
    "    def setValues(self,x,y):\n",
    "        self.x=x\n",
    "        self.y=y\n",
    "    def calculate(self1):\n",
    "        self1.sum=self1.x+self1.y\n",
    "    def getSum(self):\n",
    "        return self.sum\n",
    "adder=Adder()\n",
    "adder.setValues(5,4)\n",
    "adder.calculate()\n",
    "print(adder.getSum())"
   ]
  },
  {
   "cell_type": "code",
   "execution_count": null,
   "id": "f243e5a7",
   "metadata": {},
   "outputs": [],
   "source": []
  }
 ],
 "metadata": {
  "kernelspec": {
   "display_name": "Python 3 (ipykernel)",
   "language": "python",
   "name": "python3"
  },
  "language_info": {
   "codemirror_mode": {
    "name": "ipython",
    "version": 3
   },
   "file_extension": ".py",
   "mimetype": "text/x-python",
   "name": "python",
   "nbconvert_exporter": "python",
   "pygments_lexer": "ipython3",
   "version": "3.9.7"
  }
 },
 "nbformat": 4,
 "nbformat_minor": 5
}
